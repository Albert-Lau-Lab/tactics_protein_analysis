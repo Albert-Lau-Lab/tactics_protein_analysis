{
 "cells": [
  {
   "cell_type": "code",
   "execution_count": 1,
   "id": "8e70248f",
   "metadata": {
    "execution": {
     "iopub.execute_input": "2021-05-04T21:02:30.360756Z",
     "iopub.status.busy": "2021-05-04T21:02:30.360229Z",
     "iopub.status.idle": "2021-05-04T21:02:33.579682Z",
     "shell.execute_reply": "2021-05-04T21:02:33.580089Z"
    }
   },
   "outputs": [],
   "source": [
    "import dill\n",
    "dill.load_session('retrained_jupyter_dill.db')"
   ]
  },
  {
   "cell_type": "code",
   "execution_count": 4,
   "id": "7c1bf041",
   "metadata": {},
   "outputs": [
    {
     "data": {
      "text/plain": [
       "GridSearchCV(cv=KFold(n_splits=3, random_state=0, shuffle=True),\n",
       "             error_score='raise-deprecating',\n",
       "             estimator=RandomForestClassifier(bootstrap=True,\n",
       "                                              class_weight='balanced',\n",
       "                                              criterion='gini', max_depth=None,\n",
       "                                              max_features='auto',\n",
       "                                              max_leaf_nodes=None,\n",
       "                                              min_impurity_decrease=0.0,\n",
       "                                              min_impurity_split=None,\n",
       "                                              min_samples_leaf=1,\n",
       "                                              min_samples_split=2,\n",
       "                                              min_weight_fraction_leaf=0.0,\n",
       "                                              n_estimators='warn', n_jobs=None,\n",
       "                                              oob_score=False, random_state=0,\n",
       "                                              verbose=0, warm_start=False),\n",
       "             iid=False, n_jobs=None,\n",
       "             param_grid={'max_depth': array([1, 5, 9]),\n",
       "                         'max_features': [0.1, 0.5, 0.7, 1, 'auto'],\n",
       "                         'n_estimators': [10, 50]},\n",
       "             pre_dispatch='2*n_jobs', refit=True, return_train_score=False,\n",
       "             scoring='roc_auc', verbose=0)"
      ]
     },
     "execution_count": 4,
     "metadata": {},
     "output_type": "execute_result"
    }
   ],
   "source": [
    "rf_grid_search"
   ]
  },
  {
   "cell_type": "code",
   "execution_count": 5,
   "id": "0fa105a9",
   "metadata": {},
   "outputs": [
    {
     "data": {
      "text/plain": [
       "{'mean_fit_time': array([ 0.63825067,  2.75678007,  1.05365817,  4.97807169,  1.25972756,\n",
       "         6.01456896,  0.62470619,  2.75039776,  0.7972912 ,  3.86297099,\n",
       "         1.72568178,  8.05150763,  3.50788109, 17.47280375,  4.60681224,\n",
       "        22.27197949,  1.72719312,  8.0382119 ,  2.61490035, 12.66902725,\n",
       "         2.44380935, 11.73200234,  5.37693922, 26.51449927,  6.83881553,\n",
       "        33.41362572,  2.44787447, 11.75852362,  4.00041429, 19.22786729]),\n",
       " 'std_fit_time': array([0.01300802, 0.01374136, 0.00189549, 0.00877299, 0.00439994,\n",
       "        0.006611  , 0.00081284, 0.00396443, 0.00202232, 0.00708644,\n",
       "        0.01804515, 0.00205402, 0.03382781, 0.10816958, 0.05145898,\n",
       "        0.08715949, 0.0209314 , 0.00874642, 0.03088344, 0.0397808 ,\n",
       "        0.05425729, 0.27038701, 0.01385911, 0.14456719, 0.05153326,\n",
       "        0.15128476, 0.0561101 , 0.23614244, 0.03000381, 0.03352311]),\n",
       " 'mean_score_time': array([0.09400622, 0.32984511, 0.09298762, 0.33000326, 0.09270668,\n",
       "        0.32996329, 0.09394995, 0.33003624, 0.0928456 , 0.33158096,\n",
       "        0.12573934, 0.45210298, 0.1217467 , 0.4520429 , 0.12154881,\n",
       "        0.45067183, 0.1235292 , 0.45228974, 0.12163973, 0.45348016,\n",
       "        0.1569461 , 0.60862199, 0.1497856 , 0.58945529, 0.1502192 ,\n",
       "        0.58541338, 0.1567498 , 0.60867008, 0.15263828, 0.5999407 ]),\n",
       " 'std_score_time': array([0.00035095, 0.00097715, 0.00052572, 0.00076878, 0.0004465 ,\n",
       "        0.00097099, 0.00036301, 0.00106553, 0.00038948, 0.00056407,\n",
       "        0.00392923, 0.00117339, 0.00029286, 0.00140969, 0.00091448,\n",
       "        0.00355685, 0.00126761, 0.00130643, 0.00112032, 0.00142389,\n",
       "        0.00096883, 0.003535  , 0.0004998 , 0.0022395 , 0.00058329,\n",
       "        0.00427265, 0.00077431, 0.00302894, 0.00121009, 0.00280448]),\n",
       " 'param_max_depth': masked_array(data=[1, 1, 1, 1, 1, 1, 1, 1, 1, 1, 5, 5, 5, 5, 5, 5, 5, 5,\n",
       "                    5, 5, 9, 9, 9, 9, 9, 9, 9, 9, 9, 9],\n",
       "              mask=[False, False, False, False, False, False, False, False,\n",
       "                    False, False, False, False, False, False, False, False,\n",
       "                    False, False, False, False, False, False, False, False,\n",
       "                    False, False, False, False, False, False],\n",
       "        fill_value='?',\n",
       "             dtype=object),\n",
       " 'param_max_features': masked_array(data=[0.1, 0.1, 0.5, 0.5, 0.7, 0.7, 1, 1, 'auto', 'auto',\n",
       "                    0.1, 0.1, 0.5, 0.5, 0.7, 0.7, 1, 1, 'auto', 'auto',\n",
       "                    0.1, 0.1, 0.5, 0.5, 0.7, 0.7, 1, 1, 'auto', 'auto'],\n",
       "              mask=[False, False, False, False, False, False, False, False,\n",
       "                    False, False, False, False, False, False, False, False,\n",
       "                    False, False, False, False, False, False, False, False,\n",
       "                    False, False, False, False, False, False],\n",
       "        fill_value='?',\n",
       "             dtype=object),\n",
       " 'param_n_estimators': masked_array(data=[10, 50, 10, 50, 10, 50, 10, 50, 10, 50, 10, 50, 10, 50,\n",
       "                    10, 50, 10, 50, 10, 50, 10, 50, 10, 50, 10, 50, 10, 50,\n",
       "                    10, 50],\n",
       "              mask=[False, False, False, False, False, False, False, False,\n",
       "                    False, False, False, False, False, False, False, False,\n",
       "                    False, False, False, False, False, False, False, False,\n",
       "                    False, False, False, False, False, False],\n",
       "        fill_value='?',\n",
       "             dtype=object),\n",
       " 'params': [{'max_depth': 1, 'max_features': 0.1, 'n_estimators': 10},\n",
       "  {'max_depth': 1, 'max_features': 0.1, 'n_estimators': 50},\n",
       "  {'max_depth': 1, 'max_features': 0.5, 'n_estimators': 10},\n",
       "  {'max_depth': 1, 'max_features': 0.5, 'n_estimators': 50},\n",
       "  {'max_depth': 1, 'max_features': 0.7, 'n_estimators': 10},\n",
       "  {'max_depth': 1, 'max_features': 0.7, 'n_estimators': 50},\n",
       "  {'max_depth': 1, 'max_features': 1, 'n_estimators': 10},\n",
       "  {'max_depth': 1, 'max_features': 1, 'n_estimators': 50},\n",
       "  {'max_depth': 1, 'max_features': 'auto', 'n_estimators': 10},\n",
       "  {'max_depth': 1, 'max_features': 'auto', 'n_estimators': 50},\n",
       "  {'max_depth': 5, 'max_features': 0.1, 'n_estimators': 10},\n",
       "  {'max_depth': 5, 'max_features': 0.1, 'n_estimators': 50},\n",
       "  {'max_depth': 5, 'max_features': 0.5, 'n_estimators': 10},\n",
       "  {'max_depth': 5, 'max_features': 0.5, 'n_estimators': 50},\n",
       "  {'max_depth': 5, 'max_features': 0.7, 'n_estimators': 10},\n",
       "  {'max_depth': 5, 'max_features': 0.7, 'n_estimators': 50},\n",
       "  {'max_depth': 5, 'max_features': 1, 'n_estimators': 10},\n",
       "  {'max_depth': 5, 'max_features': 1, 'n_estimators': 50},\n",
       "  {'max_depth': 5, 'max_features': 'auto', 'n_estimators': 10},\n",
       "  {'max_depth': 5, 'max_features': 'auto', 'n_estimators': 50},\n",
       "  {'max_depth': 9, 'max_features': 0.1, 'n_estimators': 10},\n",
       "  {'max_depth': 9, 'max_features': 0.1, 'n_estimators': 50},\n",
       "  {'max_depth': 9, 'max_features': 0.5, 'n_estimators': 10},\n",
       "  {'max_depth': 9, 'max_features': 0.5, 'n_estimators': 50},\n",
       "  {'max_depth': 9, 'max_features': 0.7, 'n_estimators': 10},\n",
       "  {'max_depth': 9, 'max_features': 0.7, 'n_estimators': 50},\n",
       "  {'max_depth': 9, 'max_features': 1, 'n_estimators': 10},\n",
       "  {'max_depth': 9, 'max_features': 1, 'n_estimators': 50},\n",
       "  {'max_depth': 9, 'max_features': 'auto', 'n_estimators': 10},\n",
       "  {'max_depth': 9, 'max_features': 'auto', 'n_estimators': 50}],\n",
       " 'split0_test_score': array([0.80400984, 0.81418929, 0.81242895, 0.81235036, 0.8106144 ,\n",
       "        0.81362352, 0.80400984, 0.81418929, 0.80513622, 0.81376683,\n",
       "        0.85521359, 0.85899176, 0.85957117, 0.86460783, 0.85793654,\n",
       "        0.86358785, 0.85521359, 0.85899176, 0.86031278, 0.86282327,\n",
       "        0.86381221, 0.86657219, 0.85689824, 0.85986746, 0.85503205,\n",
       "        0.85716403, 0.86381221, 0.86657219, 0.85226267, 0.86055327]),\n",
       " 'split1_test_score': array([0.8205061 , 0.82719758, 0.82595818, 0.82678328, 0.82523116,\n",
       "        0.82718473, 0.8205061 , 0.82719758, 0.82317518, 0.8290764 ,\n",
       "        0.86252193, 0.86253434, 0.86304076, 0.86680134, 0.86033761,\n",
       "        0.86539801, 0.86252193, 0.86253434, 0.86029022, 0.86641837,\n",
       "        0.86615001, 0.86610311, 0.84756656, 0.85902672, 0.84848998,\n",
       "        0.86096247, 0.86615001, 0.86610311, 0.85860755, 0.86302077]),\n",
       " 'split2_test_score': array([0.79646893, 0.80294578, 0.79948718, 0.80273768, 0.80231728,\n",
       "        0.80488856, 0.79646893, 0.80294578, 0.79541542, 0.80513547,\n",
       "        0.84872487, 0.85010293, 0.8525954 , 0.85975921, 0.85342816,\n",
       "        0.8584463 , 0.84872487, 0.85010293, 0.85105667, 0.85810296,\n",
       "        0.84958794, 0.86020263, 0.8585612 , 0.85511638, 0.84517436,\n",
       "        0.85527332, 0.84958794, 0.86020263, 0.8489225 , 0.85463065]),\n",
       " 'mean_test_score': array([0.80699496, 0.81477755, 0.81262477, 0.81395711, 0.81272095,\n",
       "        0.81523227, 0.80699496, 0.81477755, 0.80790894, 0.8159929 ,\n",
       "        0.8554868 , 0.85720968, 0.85840244, 0.86372279, 0.8572341 ,\n",
       "        0.86247738, 0.8554868 , 0.85720968, 0.85721989, 0.8624482 ,\n",
       "        0.85985005, 0.86429264, 0.854342  , 0.85800352, 0.84956546,\n",
       "        0.85779994, 0.85985005, 0.86429264, 0.85326424, 0.85940156]),\n",
       " 'std_test_score': array([0.01003758, 0.00990949, 0.01080763, 0.0098821 , 0.0094724 ,\n",
       "        0.00917318, 0.01003758, 0.00990949, 0.01150122, 0.00989978,\n",
       "        0.00563594, 0.0052292 , 0.00434364, 0.00294226, 0.00286417,\n",
       "        0.00294465, 0.00563594, 0.0052292 , 0.00435807, 0.0034051 ,\n",
       "        0.00731891, 0.00289841, 0.00483882, 0.00207017, 0.0040956 ,\n",
       "        0.00236571, 0.00731891, 0.00289841, 0.00401683, 0.00352073]),\n",
       " 'rank_test_score': array([29, 23, 27, 25, 26, 22, 29, 23, 28, 21, 16, 14,  9,  3, 12,  4, 16,\n",
       "        14, 13,  5,  6,  1, 18, 10, 20, 11,  6,  1, 19,  8], dtype=int32)}"
      ]
     },
     "execution_count": 5,
     "metadata": {},
     "output_type": "execute_result"
    }
   ],
   "source": [
    "rf_grid_search.cv_results_"
   ]
  },
  {
   "cell_type": "code",
   "execution_count": 6,
   "id": "08342826",
   "metadata": {},
   "outputs": [
    {
     "data": {
      "text/plain": [
       "RandomForestClassifier(bootstrap=True, class_weight='balanced',\n",
       "                       criterion='gini', max_depth=9, max_features=0.1,\n",
       "                       max_leaf_nodes=None, min_impurity_decrease=0.0,\n",
       "                       min_impurity_split=None, min_samples_leaf=1,\n",
       "                       min_samples_split=2, min_weight_fraction_leaf=0.0,\n",
       "                       n_estimators=50, n_jobs=None, oob_score=False,\n",
       "                       random_state=0, verbose=0, warm_start=False)"
      ]
     },
     "execution_count": 6,
     "metadata": {},
     "output_type": "execute_result"
    }
   ],
   "source": [
    "rf_grid_search.best_estimator_"
   ]
  },
  {
   "cell_type": "code",
   "execution_count": 7,
   "id": "e58396b3",
   "metadata": {},
   "outputs": [
    {
     "data": {
      "text/plain": [
       "{'max_depth': 9, 'max_features': 0.1, 'n_estimators': 50}"
      ]
     },
     "execution_count": 7,
     "metadata": {},
     "output_type": "execute_result"
    }
   ],
   "source": [
    "rf_grid_search.best_params_"
   ]
  },
  {
   "cell_type": "code",
   "execution_count": 8,
   "id": "bee37b9a",
   "metadata": {},
   "outputs": [
    {
     "data": {
      "text/plain": [
       "0.8642926443556666"
      ]
     },
     "execution_count": 8,
     "metadata": {},
     "output_type": "execute_result"
    }
   ],
   "source": [
    "rf_grid_search.best_score_"
   ]
  },
  {
   "cell_type": "code",
   "execution_count": null,
   "id": "ad043534",
   "metadata": {},
   "outputs": [],
   "source": []
  }
 ],
 "metadata": {
  "kernelspec": {
   "display_name": "Python 3",
   "language": "python",
   "name": "python3"
  },
  "language_info": {
   "codemirror_mode": {
    "name": "ipython",
    "version": 3
   },
   "file_extension": ".py",
   "mimetype": "text/x-python",
   "name": "python",
   "nbconvert_exporter": "python",
   "pygments_lexer": "ipython3",
   "version": "3.8.5"
  }
 },
 "nbformat": 4,
 "nbformat_minor": 5
}
